{
  "nbformat": 4,
  "nbformat_minor": 0,
  "metadata": {
    "colab": {
      "name": "cloud_asg3",
      "provenance": [],
      "include_colab_link": true
    },
    "kernelspec": {
      "display_name": "Python 3",
      "name": "python3"
    }
  },
  "cells": [
    {
      "cell_type": "markdown",
      "metadata": {
        "id": "view-in-github",
        "colab_type": "text"
      },
      "source": [
        "<a href=\"https://colab.research.google.com/github/shivangtripathi/cloudLab/blob/main/cloud_asg3.ipynb\" target=\"_parent\"><img src=\"https://colab.research.google.com/assets/colab-badge.svg\" alt=\"Open In Colab\"/></a>"
      ]
    },
    {
      "cell_type": "code",
      "metadata": {
        "colab": {
          "base_uri": "https://localhost:8080/"
        },
        "id": "lIYdn1woOS1n",
        "outputId": "5fbcf870-2620-45a3-dd92-ddd2b0f054ea"
      },
      "source": [
        "#Q1\n",
        "l = [4,5,1,2,4,5,1,2]\n",
        "print(sum(l))"
      ],
      "execution_count": null,
      "outputs": [
        {
          "output_type": "stream",
          "name": "stdout",
          "text": [
            "24\n"
          ]
        }
      ]
    },
    {
      "cell_type": "code",
      "metadata": {
        "id": "veHYTYDAy4tq",
        "colab": {
          "base_uri": "https://localhost:8080/"
        },
        "outputId": "6dfd6624-422d-410b-a63c-d164cc206cc9"
      },
      "source": [
        "#Q2\n",
        "print(max(l))"
      ],
      "execution_count": null,
      "outputs": [
        {
          "output_type": "stream",
          "name": "stdout",
          "text": [
            "5\n"
          ]
        }
      ]
    },
    {
      "cell_type": "code",
      "metadata": {
        "id": "kkd6g2iLzFL2",
        "colab": {
          "base_uri": "https://localhost:8080/"
        },
        "outputId": "953c1cc1-f985-406b-94de-6b3d4cc2b194"
      },
      "source": [
        "#Q3\n",
        "l2 = [(7, 8), (5, 6), (7, 5), (10, 4), (10, 1)]\n",
        "res = sorted(l2, key = lambda sub: (-sub[0], sub[1]))\n",
        "print(res)\n",
        "\n"
      ],
      "execution_count": null,
      "outputs": [
        {
          "output_type": "stream",
          "name": "stdout",
          "text": [
            "[(10, 1), (10, 4), (7, 5), (7, 8), (5, 6)]\n"
          ]
        }
      ]
    },
    {
      "cell_type": "code",
      "metadata": {
        "id": "7FxCs5M405vB",
        "colab": {
          "base_uri": "https://localhost:8080/"
        },
        "outputId": "02a6e1db-23a7-41c0-b1a9-c1d4d28f31d3"
      },
      "source": [
        "#Q4\n",
        "l3 = [4,5,4,1,2,4,5,2]\n",
        "l3 = list(set(l3))\n",
        "print(l3)"
      ],
      "execution_count": null,
      "outputs": [
        {
          "output_type": "stream",
          "name": "stdout",
          "text": [
            "[1, 2, 4, 5]\n"
          ]
        }
      ]
    },
    {
      "cell_type": "code",
      "metadata": {
        "id": "xVIq3CoF11Jr",
        "colab": {
          "base_uri": "https://localhost:8080/"
        },
        "outputId": "885fbffd-dfb2-4598-e0a6-f6e73b6cafaa"
      },
      "source": [
        "#Q5\n",
        "def long_words(n, str):\n",
        "    word_len = []\n",
        "    txt = str.split(\" \")\n",
        "    for x in txt:\n",
        "        if len(x) > n:\n",
        "            word_len.append(x)\n",
        "    return word_len\t\n",
        "print(long_words(3, \"The quick brown fox jumps over the lazy dog\"))"
      ],
      "execution_count": null,
      "outputs": [
        {
          "output_type": "stream",
          "name": "stdout",
          "text": [
            "['quick', 'brown', 'jumps', 'over', 'lazy']\n"
          ]
        }
      ]
    },
    {
      "cell_type": "code",
      "metadata": {
        "id": "3HWSgxMS2tX0",
        "colab": {
          "base_uri": "https://localhost:8080/"
        },
        "outputId": "abe4d21a-801b-449b-c4d8-632f79cef164"
      },
      "source": [
        "#Q6\n",
        "list1 = [7,8,2,3,5]\n",
        "list2 = [8,4,3,2,22,11,9]\n",
        "diff1 = list(set(list1) - set(list2))\n",
        "diff2 = list(set(list2) - set(list1))\n",
        "total_diff = diff1 + diff2\n",
        "print(total_diff)"
      ],
      "execution_count": null,
      "outputs": [
        {
          "output_type": "stream",
          "name": "stdout",
          "text": [
            "[5, 7, 9, 11, 4, 22]\n"
          ]
        }
      ]
    },
    {
      "cell_type": "code",
      "metadata": {
        "id": "0iRJUXti22uf",
        "colab": {
          "base_uri": "https://localhost:8080/"
        },
        "outputId": "f5f5e8e6-367c-4844-8c11-963b8d498c69"
      },
      "source": [
        "#Q7\n",
        "d = {0:12, 7:21}\n",
        "print(d)\n",
        "d.update({2:1})\n",
        "print(d)"
      ],
      "execution_count": null,
      "outputs": [
        {
          "output_type": "stream",
          "name": "stdout",
          "text": [
            "{0: 12, 7: 21}\n",
            "{0: 12, 7: 21, 2: 1}\n"
          ]
        }
      ]
    },
    {
      "cell_type": "code",
      "metadata": {
        "id": "aDuq1pA83GmV",
        "colab": {
          "base_uri": "https://localhost:8080/"
        },
        "outputId": "247a0bad-7305-474c-f9ed-be63e5599831"
      },
      "source": [
        "#Q8\n",
        "dic1 = {1:4, 2:5}\n",
        "dic2 = {3:6, 4:7}\n",
        "dic3 = {5:8, 6:9}\n",
        "dic4 = {}\n",
        "for d in (dic1, dic2, dic3):\n",
        "   dic4.update(d)\n",
        "print(dic4)"
      ],
      "execution_count": null,
      "outputs": [
        {
          "output_type": "stream",
          "name": "stdout",
          "text": [
            "{1: 4, 2: 5, 3: 6, 4: 7, 5: 8, 6: 9}\n"
          ]
        }
      ]
    },
    {
      "cell_type": "code",
      "metadata": {
        "id": "60feX2LJ3HFk",
        "colab": {
          "base_uri": "https://localhost:8080/"
        },
        "outputId": "45d9c13b-73a1-4570-982f-58eabbed39b9"
      },
      "source": [
        "#Q9\n",
        "dic = {1:2, 3:4, 5:6,7:9,8:10}\n",
        "print(dic)\n",
        "if 8 in dic:\n",
        "  del dic[8]\n",
        "print(dic)"
      ],
      "execution_count": null,
      "outputs": [
        {
          "output_type": "stream",
          "name": "stdout",
          "text": [
            "{1: 2, 3: 4, 5: 6, 7: 9, 8: 10}\n",
            "{1: 2, 3: 4, 5: 6, 7: 9}\n"
          ]
        }
      ]
    },
    {
      "cell_type": "code",
      "metadata": {
        "id": "Hj6BPbuI3ItQ",
        "colab": {
          "base_uri": "https://localhost:8080/"
        },
        "outputId": "201a3f5e-74e3-4f6a-f623-25677e53b716"
      },
      "source": [
        "# Q10\n",
        "dic = {'p':1, 'q':6, 'r':7, 's':2, 't':4}\n",
        "result = 1\n",
        "for key in dic:\n",
        "  result = result * dic[key]\n",
        "\n",
        "print(result)"
      ],
      "execution_count": null,
      "outputs": [
        {
          "output_type": "stream",
          "name": "stdout",
          "text": [
            "336\n"
          ]
        }
      ]
    },
    {
      "cell_type": "code",
      "metadata": {
        "id": "T7k1WItz3Krf"
      },
      "source": [
        ""
      ],
      "execution_count": null,
      "outputs": []
    }
  ]
}