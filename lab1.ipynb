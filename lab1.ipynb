{
  "nbformat": 4,
  "nbformat_minor": 0,
  "metadata": {
    "colab": {
      "name": "lab1.ipynb",
      "provenance": [],
      "authorship_tag": "ABX9TyN1IdMXQFpqm7wdmnt5zEhb",
      "include_colab_link": true
    },
    "kernelspec": {
      "name": "python3",
      "display_name": "Python 3"
    },
    "language_info": {
      "name": "python"
    }
  },
  "cells": [
    {
      "cell_type": "markdown",
      "metadata": {
        "id": "view-in-github",
        "colab_type": "text"
      },
      "source": [
        "<a href=\"https://colab.research.google.com/github/shivangtripathi/cloudLab/blob/main/lab1.ipynb\" target=\"_parent\"><img src=\"https://colab.research.google.com/assets/colab-badge.svg\" alt=\"Open In Colab\"/></a>"
      ]
    },
    {
      "cell_type": "markdown",
      "metadata": {
        "id": "0JVNycliP_M9"
      },
      "source": [
        "# **LAB 1**\n"
      ]
    },
    {
      "cell_type": "code",
      "metadata": {
        "colab": {
          "base_uri": "https://localhost:8080/"
        },
        "id": "4b7qDilmPQrp",
        "outputId": "9bc9a882-a1a0-4610-a27a-f00b38902476"
      },
      "source": [
        "#Q1\n",
        "print(\"\\t\\t Twinkle, twinkle, little star, \\n\",\n",
        " \"\\t How I wonder what you are! \\n\",\n",
        " \"\\t\\t Up above the world so high, \\n\"\n",
        " \"\\t\\t Like a diamond in the sky. \\n\"\n",
        "\"Twinkle, twinkle, little star, \\n\"\n",
        " \"\\t How I wonder what you are \\n\")"
      ],
      "execution_count": 32,
      "outputs": [
        {
          "output_type": "stream",
          "text": [
            "\t\t Twinkle, twinkle, little star, \n",
            " \t How I wonder what you are! \n",
            " \t\t Up above the world so high, \n",
            "\t\t Like a diamond in the sky. \n",
            "Twinkle, twinkle, little star, \n",
            "\t How I wonder what you are \n",
            "\n"
          ],
          "name": "stdout"
        }
      ]
    },
    {
      "cell_type": "code",
      "metadata": {
        "colab": {
          "base_uri": "https://localhost:8080/"
        },
        "id": "ke46qqt4UT7R",
        "outputId": "4848368c-0c50-43f8-fee6-a1b73d6a148a"
      },
      "source": [
        "#Q2\n",
        "import datetime\n",
        "import pytz\n",
        "print(\"Current Date and Time \",datetime.datetime.now(pytz.timezone('Asia/Kolkata')));"
      ],
      "execution_count": 33,
      "outputs": [
        {
          "output_type": "stream",
          "text": [
            "Current Date and Time  2021-08-09 11:00:53.282790+05:30\n"
          ],
          "name": "stdout"
        }
      ]
    },
    {
      "cell_type": "code",
      "metadata": {
        "colab": {
          "base_uri": "https://localhost:8080/"
        },
        "id": "20by3QB6VAkV",
        "outputId": "7a338cc7-dc8d-45db-a101-96b95e6bddcd"
      },
      "source": [
        "#Q3\n",
        "def area(x):\n",
        "  area = 3.14*x*x;\n",
        "  print(\"Area of circle with radius x is : \",area);\n",
        "x = input(\"Enter radius\")\n",
        "area(x)"
      ],
      "execution_count": 34,
      "outputs": [
        {
          "output_type": "stream",
          "text": [
            "Area of circle with radius x is :  78.5\n"
          ],
          "name": "stdout"
        }
      ]
    },
    {
      "cell_type": "code",
      "metadata": {
        "colab": {
          "base_uri": "https://localhost:8080/"
        },
        "id": "Uttc3lzrVZhN",
        "outputId": "44ad768a-5386-4e09-cc30-06bc73201317"
      },
      "source": [
        "#Q4\n",
        "def compute_name(firstName,lastName):\n",
        "  fullName = lastName + \" \" + firstName;\n",
        "  print(fullName);\n",
        "x = input(\"Enter FirstName\")\n",
        "y = input(\"Enter LastName\")\n",
        "compute_name(x,y)"
      ],
      "execution_count": 35,
      "outputs": [
        {
          "output_type": "stream",
          "text": [
            "Tripathi Shivang\n"
          ],
          "name": "stdout"
        }
      ]
    },
    {
      "cell_type": "code",
      "metadata": {
        "colab": {
          "base_uri": "https://localhost:8080/"
        },
        "id": "LlkvXcOsVrPN",
        "outputId": "eb89e4d6-b70a-42ce-a7b7-b974b12c400e"
      },
      "source": [
        "#Q5\n",
        "def extract_extension(fileName):\n",
        "  extension = fileName.split('.')[1];\n",
        "  print(\"Extension of the file is : \",extension);\n",
        "x = input(\"Enter filename\")\n",
        "extract_extension(x);"
      ],
      "execution_count": 36,
      "outputs": [
        {
          "output_type": "stream",
          "text": [
            "Extension of the file is :  py\n"
          ],
          "name": "stdout"
        }
      ]
    },
    {
      "cell_type": "code",
      "metadata": {
        "colab": {
          "base_uri": "https://localhost:8080/"
        },
        "id": "E5BEE1AFWKBN",
        "outputId": "4dc25837-26d1-46bc-b9c6-5ae3dd9fefe1"
      },
      "source": [
        "#Q6\n",
        "colors = [\"red\",\"blue\",\"green\",\"white\"];\n",
        "print(colors[0],colors[len(colors)-1]);"
      ],
      "execution_count": 37,
      "outputs": [
        {
          "output_type": "stream",
          "text": [
            "red white\n"
          ],
          "name": "stdout"
        }
      ]
    },
    {
      "cell_type": "code",
      "metadata": {
        "colab": {
          "base_uri": "https://localhost:8080/"
        },
        "id": "q_rA4XalWoTF",
        "outputId": "af9070fd-4e1b-4e7e-d1c8-1edf641300e9"
      },
      "source": [
        "#Q7\n",
        "def compute(n):\n",
        "  result = 0;\n",
        "  for i in (1,2,3):\n",
        "    result += pow(n,i);\n",
        "  print('result is ',result);\n",
        "x = input(\"Enter n\")\n",
        "compute(x)"
      ],
      "execution_count": 38,
      "outputs": [
        {
          "output_type": "stream",
          "text": [
            "result is  14\n"
          ],
          "name": "stdout"
        }
      ]
    },
    {
      "cell_type": "code",
      "metadata": {
        "colab": {
          "base_uri": "https://localhost:8080/"
        },
        "id": "x0LnWGHEYnw9",
        "outputId": "cb0903d4-d090-45d9-b954-f1c72145a347"
      },
      "source": [
        "#Q8\n",
        "def check_num(n):\n",
        "  if((n > 900 and n<1100) or (n>1900 and n < 2100)):\n",
        "    print(\"true\");\n",
        "  else:\n",
        "    print(\"false\");\n",
        "x = input(\"Enter num\")\n",
        "check_num(x);"
      ],
      "execution_count": 39,
      "outputs": [
        {
          "output_type": "stream",
          "text": [
            "true\n"
          ],
          "name": "stdout"
        }
      ]
    },
    {
      "cell_type": "code",
      "metadata": {
        "colab": {
          "base_uri": "https://localhost:8080/"
        },
        "id": "l_uQo2E0XSIP",
        "outputId": "7506102e-01b5-4bfa-cc52-02c7623b7236"
      },
      "source": [
        "#Q9\n",
        "def check_even(n):\n",
        "  if(n%2 == 0):\n",
        "    print(n,\"is even\");\n",
        "  else:\n",
        "    print(n,\"is odd\");\n",
        "x = input(\"Enter num\")\n",
        "check_even(x);"
      ],
      "execution_count": 40,
      "outputs": [
        {
          "output_type": "stream",
          "text": [
            "5 is odd\n"
          ],
          "name": "stdout"
        }
      ]
    },
    {
      "cell_type": "code",
      "metadata": {
        "colab": {
          "base_uri": "https://localhost:8080/"
        },
        "id": "Wy6sUi5iXpqG",
        "outputId": "09779ea0-67ec-43b2-e7a7-ba42b1e61eb9"
      },
      "source": [
        "#Q10\n",
        "def count_variable(n,x):\n",
        "  count = 0;\n",
        "  for i in n:\n",
        "    if i==x:\n",
        "      count += 1;\n",
        "\n",
        "  return count\n",
        "\n",
        "print(count_variable([1,2,4,5,4,4,1],4));"
      ],
      "execution_count": 41,
      "outputs": [
        {
          "output_type": "stream",
          "text": [
            "3\n"
          ],
          "name": "stdout"
        }
      ]
    }
  ]
}