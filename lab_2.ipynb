{
  "nbformat": 4,
  "nbformat_minor": 0,
  "metadata": {
    "colab": {
      "name": "lab_2.ipynb",
      "provenance": [],
      "collapsed_sections": [],
      "authorship_tag": "ABX9TyNrCTELnenE4KPHPRrzYLAS",
      "include_colab_link": true
    },
    "kernelspec": {
      "name": "python3",
      "display_name": "Python 3"
    },
    "language_info": {
      "name": "python"
    }
  },
  "cells": [
    {
      "cell_type": "markdown",
      "metadata": {
        "id": "view-in-github",
        "colab_type": "text"
      },
      "source": [
        "<a href=\"https://colab.research.google.com/github/shivangtripathi/cloudLab/blob/main/lab_2.ipynb\" target=\"_parent\"><img src=\"https://colab.research.google.com/assets/colab-badge.svg\" alt=\"Open In Colab\"/></a>"
      ]
    },
    {
      "cell_type": "markdown",
      "metadata": {
        "id": "V9zCOHsSRDEv"
      },
      "source": [
        "**TUPLES**"
      ]
    },
    {
      "cell_type": "code",
      "metadata": {
        "colab": {
          "base_uri": "https://localhost:8080/"
        },
        "id": "eWiBZF7XMh0o",
        "outputId": "faa35a5d-f0f6-4b26-e729-aa3068e5489e"
      },
      "source": [
        "\n",
        "\n",
        "tuple1 = (1,2,3,4,5,6)\n",
        "#insertion\n",
        "def insert(x,tuple1):\n",
        "  print(\"Before Insertion\",tuple1)\n",
        "  list1 = list(tuple1)\n",
        "  list1.append(7)\n",
        "  print(\"After Insertion\",list1)\n",
        "  return list1\n",
        "\n",
        "tuple1 = tuple(insert(7,tuple1));\n",
        "\n",
        "def remove(x,tuple1):\n",
        "  print(\"Before Removing\",tuple1)\n",
        "  list1 = list(tuple1)\n",
        "  list1.remove(x)\n",
        "  print(\"After Removing\",tuple1)\n",
        "  return list1\n",
        "  \n",
        "tuple1 = tuple(insert(7,tuple1));\n",
        "\n",
        "#indexing\n",
        "print(tuple1[0:2])\n"
      ],
      "execution_count": 18,
      "outputs": [
        {
          "output_type": "stream",
          "text": [
            "Before Insertion (1, 2, 3, 4, 5, 6)\n",
            "After Insertion [1, 2, 3, 4, 5, 6, 7]\n",
            "(1, 2, 3, 4, 5, 6, 7)\n"
          ],
          "name": "stdout"
        }
      ]
    },
    {
      "cell_type": "markdown",
      "metadata": {
        "id": "SlKjZzvyRHC-"
      },
      "source": [
        "**DICTIONARY**"
      ]
    },
    {
      "cell_type": "code",
      "metadata": {
        "colab": {
          "base_uri": "https://localhost:8080/"
        },
        "id": "vy9hRNnKRLBm",
        "outputId": "33dfc461-f674-4df0-fd9a-d3506e4d2af2"
      },
      "source": [
        "dict1 = {\n",
        "    1:'one',\n",
        "    2:'two',\n",
        "    3:'three',\n",
        "    4:'four'\n",
        "}\n",
        "\n",
        "#copying\n",
        "print('\\n -----dict2 copied----- \\n')\n",
        "dict2 = dict1.copy()\n",
        "for x in dict2:\n",
        "  print(x,' -> ',dict2[x])\n",
        "\n",
        "\n",
        "#inserting\n",
        "dict1[5]=\"five\"\n",
        "for x in dict1:\n",
        "  print(x,' -> ',dict1[x])\n",
        "print('\\n -----after inserting five----- \\n')\n",
        "\n",
        "#updating\n",
        "dict1[4]=\"FOUR\"\n",
        "for x in dict1:\n",
        "  print(x,' -> ',dict1[x])\n",
        "print('\\n -----after updating four----- \\n')\n",
        "\n",
        "#deleting\n",
        "dict1.pop(5) #remove the key value\n",
        "for x in dict1:\n",
        "  print(x,' -> ',dict1[x])\n",
        "print('\\n -----after popping five----- \\n')\n",
        "\n",
        "dict1.popitem() #removes last inserted item\n",
        "for x in dict1:\n",
        "  print(x,' -> ',dict1[x])\n",
        "print('\\n -----removed last element-----\\n')\n",
        "\n",
        "#clearing\n",
        "dict1.clear()"
      ],
      "execution_count": 23,
      "outputs": [
        {
          "output_type": "stream",
          "text": [
            "\n",
            " -----dict2 copied----- \n",
            "\n",
            "1  ->  one\n",
            "2  ->  two\n",
            "3  ->  three\n",
            "4  ->  four\n",
            "1  ->  one\n",
            "2  ->  two\n",
            "3  ->  three\n",
            "4  ->  four\n",
            "5  ->  five\n",
            "\n",
            " -----after inserting five----- \n",
            "\n",
            "1  ->  one\n",
            "2  ->  two\n",
            "3  ->  three\n",
            "4  ->  FOUR\n",
            "5  ->  five\n",
            "\n",
            " -----after updating four----- \n",
            "\n",
            "1  ->  one\n",
            "2  ->  two\n",
            "3  ->  three\n",
            "4  ->  FOUR\n",
            "\n",
            " -----after popping five----- \n",
            "\n",
            "1  ->  one\n",
            "2  ->  two\n",
            "3  ->  three\n",
            "\n",
            " -----removed last element-----\n",
            "\n"
          ],
          "name": "stdout"
        }
      ]
    },
    {
      "cell_type": "markdown",
      "metadata": {
        "id": "nb_-Z7bOUHmF"
      },
      "source": [
        "**ASSIGNMENT 2**\n"
      ]
    },
    {
      "cell_type": "code",
      "metadata": {
        "colab": {
          "base_uri": "https://localhost:8080/"
        },
        "id": "t_3ew9z8UNBF",
        "outputId": "7b0a6264-86e7-4287-f022-4dfd7affe2a9"
      },
      "source": [
        "#Q1\n",
        "vowels = ('a','e','i','o','u')\n",
        "def check_char(c,vowels):\n",
        "  if(c in vowels):\n",
        "    return True\n",
        "  else:\n",
        "    return False\n",
        "c = input('Enter a character : ')\n",
        "if(check_char(c,vowels)):\n",
        "  print(c,\"is a vowel\")\n",
        "else:\n",
        "  print(c,\"is not a vowel\")\n"
      ],
      "execution_count": 28,
      "outputs": [
        {
          "output_type": "stream",
          "text": [
            "Enter a character : r\n",
            "r is not a vowel\n"
          ],
          "name": "stdout"
        }
      ]
    },
    {
      "cell_type": "code",
      "metadata": {
        "colab": {
          "base_uri": "https://localhost:8080/"
        },
        "id": "dihUFwneUsAF",
        "outputId": "3d434fd7-192d-4735-fd43-848543b2b94d"
      },
      "source": [
        "#Q2\n",
        "color_list1 = set([\"white\",\"black\",\"red\"])\n",
        "color_list2 = set([\"red\",\"green\"])\n",
        "print(color_list1-color_list2)"
      ],
      "execution_count": 29,
      "outputs": [
        {
          "output_type": "stream",
          "text": [
            "{'white', 'black'}\n"
          ],
          "name": "stdout"
        }
      ]
    },
    {
      "cell_type": "code",
      "metadata": {
        "colab": {
          "base_uri": "https://localhost:8080/"
        },
        "id": "stuUgjwaVMks",
        "outputId": "99bfeb83-19e5-4051-ff5c-77f3a94ec123"
      },
      "source": [
        "#Q3\n",
        "x = int(input('enter x : '))\n",
        "y = int(input('enter y : '))\n",
        "def calculate(x,y):\n",
        "  ans = x+y;\n",
        "  ans*= ans;\n",
        "  return ans;\n",
        "\n",
        "print('(x+y)*(x+y) = ',calculate(x,y))"
      ],
      "execution_count": 30,
      "outputs": [
        {
          "output_type": "stream",
          "text": [
            "enter x : 5\n",
            "enter y : 5\n",
            "(x+y)*(x+y) =  100\n"
          ],
          "name": "stdout"
        }
      ]
    },
    {
      "cell_type": "code",
      "metadata": {
        "colab": {
          "base_uri": "https://localhost:8080/"
        },
        "id": "tr2-yzzoVjRF",
        "outputId": "8b4440a9-0b64-4a4c-978f-f82461426dc9"
      },
      "source": [
        "#Q4\n",
        "x = int(input(\"enter an integer : \"))\n",
        "def calculate_sum(x):\n",
        "  sum = 0\n",
        "  while(x>0):\n",
        "    sum+= x%10\n",
        "    x = x//10\n",
        "  return sum\n",
        "\n",
        "print(\"Sum of digits of \",x,' is ',calculate_sum(x))"
      ],
      "execution_count": 32,
      "outputs": [
        {
          "output_type": "stream",
          "text": [
            "enter an integer : 12\n",
            "Sum of digits of  12  is  3\n"
          ],
          "name": "stdout"
        }
      ]
    },
    {
      "cell_type": "code",
      "metadata": {
        "colab": {
          "base_uri": "https://localhost:8080/"
        },
        "id": "fS0ckGDbWEI0",
        "outputId": "b43c6990-1cac-40e5-bd76-8f7c15aab2c1"
      },
      "source": [
        "#Q5\n",
        "x = str(input(\"Enter a string : \"))\n",
        "def calculate_len(x):\n",
        "  count = 0\n",
        "  for t in x:\n",
        "    count+=1\n",
        "  return count\n",
        "\n",
        "print(\"Length of string \",x,' is ',calculate_len(x))"
      ],
      "execution_count": 35,
      "outputs": [
        {
          "output_type": "stream",
          "text": [
            "Enter a string : shivang\n",
            "Length of string  shivang  is  7\n"
          ],
          "name": "stdout"
        }
      ]
    },
    {
      "cell_type": "code",
      "metadata": {
        "colab": {
          "base_uri": "https://localhost:8080/"
        },
        "id": "2svBMReXWf61",
        "outputId": "ed4d9b17-13f4-4657-f0e9-51ccf7fce9b2"
      },
      "source": [
        "#Q6\n",
        "string1 = \"abc,xyz\"\n",
        "str1,str2 = string1.split(',')\n",
        "def swap(x,y):\n",
        "  c1,c2 = x[1:3]\n",
        "  r1,r2 = y[1:3]\n",
        "  x = x.replace(c1,r1)\n",
        "  x = x.replace(c2,r2)\n",
        "  y = y.replace(r1,c1)\n",
        "  y = y.replace(r2,c2)\n",
        "  print(x,' '+y)\n",
        "swap(str1,str2)"
      ],
      "execution_count": 48,
      "outputs": [
        {
          "output_type": "stream",
          "text": [
            "ayz  xbc\n"
          ],
          "name": "stdout"
        }
      ]
    },
    {
      "cell_type": "code",
      "metadata": {
        "colab": {
          "base_uri": "https://localhost:8080/"
        },
        "id": "V7aX9LtvXBKs",
        "outputId": "beb716a9-c3a9-4de9-bdcf-1ee7f36a3645"
      },
      "source": [
        "#Q7\n",
        "string1 = \"hey delilah\"\n",
        "def remove_index(x,string1):\n",
        "  print(\"Before Removing = \" ,string1)\n",
        "  string1 = string1.replace(string1[x],\"\")\n",
        "  print(\"After Removing = \" ,string1)\n",
        "\n",
        "remove_index(2,string1)"
      ],
      "execution_count": 52,
      "outputs": [
        {
          "output_type": "stream",
          "text": [
            "Before Removing =  hey delilah\n",
            "After Removing =  he delilah\n"
          ],
          "name": "stdout"
        }
      ]
    },
    {
      "cell_type": "code",
      "metadata": {
        "colab": {
          "base_uri": "https://localhost:8080/"
        },
        "id": "xPKWgKaBZ86k",
        "outputId": "1de8a0a2-7b97-4f6f-e607-55b63d8cf538"
      },
      "source": [
        "#Q8\n",
        "str1 = input(\"Enter a string\")\n",
        "print(\"After converting to uppercase = \", str1.upper())\n",
        "print(\"After converting to lowercase = \", str1.lower())"
      ],
      "execution_count": 53,
      "outputs": [
        {
          "output_type": "stream",
          "text": [
            "Enter a stringsSHivang\n",
            "After converting to uppercase SSHIVANG\n",
            "After converting to lowercase sshivang\n"
          ],
          "name": "stdout"
        }
      ]
    },
    {
      "cell_type": "code",
      "metadata": {
        "colab": {
          "base_uri": "https://localhost:8080/"
        },
        "id": "j8o-dwemaXDq",
        "outputId": "0ad1f750-83a9-461c-cb41-9845dde28575"
      },
      "source": [
        "#Q9\n",
        "str1 = \"abgrdftgh\"\n",
        "def insert_x(str1,x):\n",
        "  size = len(str1)\n",
        "  s1 = str1[0:size//2]\n",
        "  s2 = str1[size//2:]\n",
        "  print(s1+x+s2)\n",
        "\n",
        "insert_x(str1,\"2\")"
      ],
      "execution_count": 57,
      "outputs": [
        {
          "output_type": "stream",
          "text": [
            "abgr2dftgh\n"
          ],
          "name": "stdout"
        }
      ]
    },
    {
      "cell_type": "code",
      "metadata": {
        "colab": {
          "base_uri": "https://localhost:8080/"
        },
        "id": "EqJXKgJ0bKbE",
        "outputId": "68fd78ff-1d30-4d65-e598-1b1a513113b3"
      },
      "source": [
        "#Q10\n",
        "y = float(input(\"Enter a number : \"))\n",
        "def print_y(y):\n",
        "  print(round(float(y),2))\n",
        "print_y(y)"
      ],
      "execution_count": 63,
      "outputs": [
        {
          "output_type": "stream",
          "text": [
            "Enter a number : 12.2256\n",
            "12.23\n"
          ],
          "name": "stdout"
        }
      ]
    },
    {
      "cell_type": "code",
      "metadata": {
        "id": "ShJCbpIjb3Xj"
      },
      "source": [
        ""
      ],
      "execution_count": null,
      "outputs": []
    }
  ]
}