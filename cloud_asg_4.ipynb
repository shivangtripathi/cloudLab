{
  "nbformat": 4,
  "nbformat_minor": 0,
  "metadata": {
    "colab": {
      "name": "cloud_asg_4.ipynb",
      "provenance": [],
      "collapsed_sections": [],
      "authorship_tag": "ABX9TyN/hbCaI3Z6l1r+b9SV+Ypr",
      "include_colab_link": true
    },
    "kernelspec": {
      "name": "python3",
      "display_name": "Python 3"
    },
    "language_info": {
      "name": "python"
    }
  },
  "cells": [
    {
      "cell_type": "markdown",
      "metadata": {
        "id": "view-in-github",
        "colab_type": "text"
      },
      "source": [
        "<a href=\"https://colab.research.google.com/github/shivangtripathi/cloudLab/blob/main/cloud_asg_4.ipynb\" target=\"_parent\"><img src=\"https://colab.research.google.com/assets/colab-badge.svg\" alt=\"Open In Colab\"/></a>"
      ]
    },
    {
      "cell_type": "code",
      "metadata": {
        "colab": {
          "base_uri": "https://localhost:8080/"
        },
        "id": "kL9_Zx4I4IAs",
        "outputId": "00eef04b-6e63-498b-a114-fac957684eb8"
      },
      "source": [
        "#Q1\n",
        "tuple1 = (\"Nope\", True, 2.5)\n",
        "print(tuple1)"
      ],
      "execution_count": null,
      "outputs": [
        {
          "output_type": "stream",
          "name": "stdout",
          "text": [
            "('Nope', True, 2.5)\n"
          ]
        }
      ]
    },
    {
      "cell_type": "code",
      "metadata": {
        "colab": {
          "base_uri": "https://localhost:8080/"
        },
        "id": "XVyKfarN4Mnb",
        "outputId": "bba09a4f-bd04-46a5-d7d1-e2748ab27a2b"
      },
      "source": [
        "#Q2\n",
        "tuple1 = (\"Hello\", True, 7.7, 7)\n",
        "print(tuple1) \n",
        "tuple1 = tuple1 + (99,)\n",
        "print(tuple1)"
      ],
      "execution_count": null,
      "outputs": [
        {
          "output_type": "stream",
          "name": "stdout",
          "text": [
            "('Hello', True, 7.7, 7)\n",
            "('Hello', True, 7.7, 7, 99)\n"
          ]
        }
      ]
    },
    {
      "cell_type": "code",
      "metadata": {
        "colab": {
          "base_uri": "https://localhost:8080/"
        },
        "id": "istIZ-wR4QAP",
        "outputId": "aff7481d-e296-490a-c71d-370b78ae2b98"
      },
      "source": [
        "#Q3\n",
        "def convertTuple(tuple1):\n",
        "  str = ''.join(tuple1)\n",
        "  return str\n",
        "\n",
        "tuple = ('S','K','l','P','A','N')\n",
        "str = convertTuple(tuple)\n",
        "print(str)"
      ],
      "execution_count": 17,
      "outputs": [
        {
          "output_type": "stream",
          "name": "stdout",
          "text": [
            "SKlPAN\n"
          ]
        }
      ]
    },
    {
      "cell_type": "code",
      "metadata": {
        "colab": {
          "base_uri": "https://localhost:8080/"
        },
        "id": "jwdyVZ174Qb7",
        "outputId": "1039c01f-f90e-48ef-8ccf-b414448f9f2b"
      },
      "source": [
        "#Q4\n",
        "tuple1 = ('Y','V','F','H','K','A')\n",
        "print(tuple1)\n",
        "fourth_ele = tuple1[3]\n",
        "print(fourth_ele)\n",
        "fourth_last_ele = tuple1[-4]\n",
        "print(fourth_last_ele)"
      ],
      "execution_count": 18,
      "outputs": [
        {
          "output_type": "stream",
          "name": "stdout",
          "text": [
            "('Y', 'V', 'F', 'H', 'K', 'A')\n",
            "H\n",
            "F\n"
          ]
        }
      ]
    },
    {
      "cell_type": "code",
      "metadata": {
        "colab": {
          "base_uri": "https://localhost:8080/"
        },
        "id": "WziV-Afp4R--",
        "outputId": "121d89ca-ef99-4f0e-a6c6-33f26fed0abd"
      },
      "source": [
        "#Q5\n",
        "tuple1 = ('K','B','G','C','L','O')\n",
        "print(tuple1)\n",
        "count = tuple1.count('I')\n",
        "print(count)"
      ],
      "execution_count": 19,
      "outputs": [
        {
          "output_type": "stream",
          "name": "stdout",
          "text": [
            "('K', 'B', 'G', 'C', 'L', 'O')\n",
            "0\n"
          ]
        }
      ]
    },
    {
      "cell_type": "code",
      "metadata": {
        "colab": {
          "base_uri": "https://localhost:8080/"
        },
        "id": "vg8X_rJR4TgE",
        "outputId": "ebfbb212-b428-4680-f81c-8ab3515d5416"
      },
      "source": [
        "#Q6\n",
        "tuple1 = ('K','B','G','C','L','O')\n",
        "print('I' in tuple1)\n",
        "print('i' in tuple1)"
      ],
      "execution_count": null,
      "outputs": [
        {
          "output_type": "stream",
          "name": "stdout",
          "text": [
            "True\n",
            "False\n"
          ]
        }
      ]
    },
    {
      "cell_type": "code",
      "metadata": {
        "colab": {
          "base_uri": "https://localhost:8080/"
        },
        "id": "GMs3NMOz4Uui",
        "outputId": "4a9dc399-9b35-406b-901e-ffa915128cd9"
      },
      "source": [
        "#Q7\n",
        "def convert(list):\n",
        "  return (*list,)\n",
        "list = [1,2,4,5,7,3]\n",
        "print(convert(list))\n"
      ],
      "execution_count": null,
      "outputs": [
        {
          "output_type": "stream",
          "name": "stdout",
          "text": [
            "(1, 2, 4, 5, 7, 3)\n"
          ]
        }
      ]
    },
    {
      "cell_type": "code",
      "metadata": {
        "colab": {
          "base_uri": "https://localhost:8080/"
        },
        "id": "MN2egRSh4WW-",
        "outputId": "66108c79-05fb-4873-e46a-a90dd1c466f1"
      },
      "source": [
        "#Q8\n",
        "tuple1 = ('S','H','I','V','A','N','G')\n",
        "sliced = tuple1[0:4]\n",
        "print(sliced)"
      ],
      "execution_count": null,
      "outputs": [
        {
          "output_type": "stream",
          "name": "stdout",
          "text": [
            "('S', 'H', 'I', 'V')\n"
          ]
        }
      ]
    },
    {
      "cell_type": "code",
      "metadata": {
        "colab": {
          "base_uri": "https://localhost:8080/"
        },
        "id": "DGXO_de84YIe",
        "outputId": "f77ceeee-a6d0-4f66-eb0a-1e7e51b15926"
      },
      "source": [
        "#Q9\n",
        "tuple1 = ('K','B','G','C','L','O')\n",
        "print(len(tuple1))"
      ],
      "execution_count": null,
      "outputs": [
        {
          "output_type": "stream",
          "name": "stdout",
          "text": [
            "6\n"
          ]
        }
      ]
    },
    {
      "cell_type": "code",
      "metadata": {
        "colab": {
          "base_uri": "https://localhost:8080/"
        },
        "id": "rSPKrRnz4bl7",
        "outputId": "90ab9464-d1f7-49d1-fb2d-d55348f56824"
      },
      "source": [
        "#10\n",
        "#create a list\n",
        "l = [(\"x\", 1), (\"x\", 2), (\"x\", 3), (\"y\", 1), (\"y\", 2), (\"z\", 1)]\n",
        "d = {}\n",
        "for a, b in l:\n",
        "    d.setdefault(a, []).append(b)\n",
        "print (d)"
      ],
      "execution_count": null,
      "outputs": [
        {
          "output_type": "stream",
          "name": "stdout",
          "text": [
            "{'x': [1, 2, 3], 'y': [1, 2], 'z': [1]}\n"
          ]
        }
      ]
    },
    {
      "cell_type": "code",
      "metadata": {
        "id": "8FMs-TM64fKo"
      },
      "source": [
        ""
      ],
      "execution_count": null,
      "outputs": []
    }
  ]
}